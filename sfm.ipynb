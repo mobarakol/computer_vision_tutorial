{
  "nbformat": 4,
  "nbformat_minor": 0,
  "metadata": {
    "colab": {
      "provenance": [],
      "authorship_tag": "ABX9TyNF9W5y5jOCGC6kHR+JFKzy",
      "include_colab_link": true
    },
    "kernelspec": {
      "name": "python3",
      "display_name": "Python 3"
    },
    "language_info": {
      "name": "python"
    }
  },
  "cells": [
    {
      "cell_type": "markdown",
      "metadata": {
        "id": "view-in-github",
        "colab_type": "text"
      },
      "source": [
        "<a href=\"https://colab.research.google.com/github/mobarakol/computer_vision_tutorial/blob/main/sfm.ipynb\" target=\"_parent\"><img src=\"https://colab.research.google.com/assets/colab-badge.svg\" alt=\"Open In Colab\"/></a>"
      ]
    },
    {
      "cell_type": "code",
      "execution_count": 1,
      "metadata": {
        "id": "G2TRcQJD2CZT"
      },
      "outputs": [],
      "source": [
        "import gdown\n",
        "url = 'https://drive.google.com/uc?id=1eygbXJvJbAWfBMlGxPl1-N_JSopi2RC9'\n",
        "gdown.download(url,'P3Data.zip',quiet=True) \n",
        "!unzip -q P3Data.zip"
      ]
    },
    {
      "cell_type": "code",
      "source": [
        "!git clone https://github.com/dushyant6/Structure-From-Motion.git\n",
        "%cd Structure-From-Motion/Code_Files/Phase1/"
      ],
      "metadata": {
        "colab": {
          "base_uri": "https://localhost:8080/"
        },
        "id": "K39Xqbg14fJp",
        "outputId": "7173c3f9-fb14-4448-ed53-a23cbc81c064"
      },
      "execution_count": 8,
      "outputs": [
        {
          "output_type": "stream",
          "name": "stdout",
          "text": [
            "Cloning into 'Structure-From-Motion'...\n",
            "remote: Enumerating objects: 123, done.\u001b[K\n",
            "remote: Counting objects: 100% (26/26), done.\u001b[K\n",
            "remote: Compressing objects: 100% (26/26), done.\u001b[K\n",
            "remote: Total 123 (delta 1), reused 0 (delta 0), pack-reused 97\u001b[K\n",
            "Receiving objects: 100% (123/123), 15.26 MiB | 15.35 MiB/s, done.\n",
            "Resolving deltas: 100% (17/17), done.\n",
            "/content/Structure-From-Motion/Code_Files/Phase1\n"
          ]
        }
      ]
    },
    {
      "cell_type": "code",
      "source": [
        "import numpy as np\n",
        "import scipy\n",
        "import cv2 as cv\n",
        "import matplotlib.pyplot as plt\n",
        "from read_matches import read_match_file\n",
        "from read_matches import find_common\n",
        "from get_src_dst import create_src_dst\n",
        "from RANSAC import RANSAC\n",
        "from EssentialMatrixFromFundamentalMatrix import EssentialMatrixFromFundamentalMatrix\n",
        "from EstimateFundamentalMatrix import getInliners\n",
        "from ExtractCameraPose import ExtractCameraPose\n",
        "from DisambiguateCameraPose import DisambiguateCameraPose\n",
        "from NonlinearTriangulation import NonlinearTriangulation\n",
        "from LinearTriangulation import LinearTriangulation\n",
        "from PnPRANSAC import PnPRANSAC\n",
        "from NonlinearPnP import NonlinearPnP\n",
        "from BuildVisibilityMatrix import AdaptiveVisibility\n",
        "from BundleAdjustment import Bundle_Error\n",
        "\n",
        "def plot_images(image_number, P_matrix, K_matrix, image_points, world_points, string):\n",
        "    b = 'P3Data/%d.png'%image_number\n",
        "    img1 = cv.imread(b)\n",
        "    img = img1.copy()\n",
        "    for i in range(len(image_points)):\n",
        "        cv.circle(img, (int(image_points[i][0]),int(image_points[i][1])), 3, [0,0,255], 1)\n",
        "        x_proj = np.dot(np.dot(K_matrix, P_matrix), world_points[i])\n",
        "        x_proj = x_proj/x_proj[2]\n",
        "        cv.circle(img, (int(x_proj[0]), int(x_proj[1])), 2, [255,0,0], -1)\n",
        "    string = 'output_images/' + string + '.png'\n",
        "    cv.imwrite(string, img)\n",
        "\n",
        "def error_func(world_point, src_point, dst_point, P, P_dash, K):\n",
        "    err = []\n",
        "    src_proj = np.dot(np.dot(K,P), world_point)\n",
        "    src_proj = src_proj/src_proj[2]\n",
        "    dst_proj = np.dot(np.dot(K, P_dash), world_point)\n",
        "    dst_proj = dst_proj/dst_proj[2]\n",
        "    err_src_x = src_point[0] - src_proj[0]\n",
        "    err_src_y = src_point[1] - src_proj[1]\n",
        "    err_src = np.sqrt(err_src_x**2 + err_src_y**2)\n",
        "    err_dst_x = dst_point[0] - dst_proj[0]\n",
        "    err_dst_y = dst_point[1] - dst_proj[1]\n",
        "    err_dst = np.sqrt(err_dst_x**2 + err_dst_y**2)\n",
        "    err.append(err_src_x)\n",
        "    err.append(err_src_y)\n",
        "    err.append(err_dst_x)\n",
        "    err.append(err_dst_y)\n",
        "    return err\n",
        "\n",
        "#image number 1\n",
        "file4 = open(r'P3Data/matching1.txt', 'r')\n",
        "file4_lines = []\n",
        "for count,line in enumerate(file4):\n",
        "    file4_lines.append(line)\n",
        "I = np.identity(3)\n",
        "\n",
        "# 1) Import matches of first image with all other images\n",
        "img_1to2, img_1to3, img_1to4, img_1to5, _, _, _, _, _, _  = read_match_file(1, file4_lines, count)\n",
        "img1_matches = []\n",
        "img1_matches.append(img_1to2)\n",
        "img1_matches.append(img_1to3)\n",
        "img1_matches.append(img_1to4)\n",
        "img1_matches.append(img_1to5)\n",
        "inliers_src = []\n",
        "inliers_dst = []\n",
        "world_points_old = []\n",
        "world_points_current = []\n",
        "P_set = []\n",
        "\n",
        "# 2) Implement RANSAC to remove outliers from original matches\n",
        "im1_12, im2_12 = create_src_dst(img_1to2)\n",
        "\n",
        "# 3) Find fundamental matrix\n",
        "inliers1_12, inliers2_12 = RANSAC(im1_12, im2_12, 11, 1000, 95)\n",
        "sFinal,fFinal, inliers1_12f, inliers2_12f = getInliners(inliers1_12, inliers2_12)\n",
        "inliers_src.append(inliers1_12f)\n",
        "inliers_dst.append(inliers2_12f)\n",
        "P = np.zeros([3,4])\n",
        "P[:,0:3] = np.identity(3)\n",
        "\n",
        "# 4) Essential matrix from fundamental matrix (intrinsic matrix)\n",
        "K = [[531.122155322710, 0, 407.192550839899],\n",
        "     [0, 531.541737503901, 313.308715048366],\n",
        "     [0, 0, 1]]\n",
        "E = EssentialMatrixFromFundamentalMatrix(fFinal,K)\n",
        "print('essential matrix', E)\n",
        "\n",
        "# 5) Find P_dash matrix\n",
        "# P_dash, R and C contains pose matrix, rotation matrix, and translation vectors for all 4 configurations\n",
        "C, R, P_dash = ExtractCameraPose(E, K)\n",
        "P = np.zeros([3,4])\n",
        "P[0][0] = P[1][1] = P[2][2] = 1\n",
        "P_set.append(P)\n",
        "\n",
        "\n",
        "# 6) Find real camera pose\n",
        "Linear_World_points_12, real_pose = DisambiguateCameraPose(inliers1_12f, inliers2_12f, P, P_dash, K, R, C)\n",
        "plot_images(1, P, K, inliers1_12f, Linear_World_points_12, 'img1 Linear world points')\n",
        "plot_images(2, P_dash[real_pose], K, inliers2_12f, Linear_World_points_12, 'img2 Linear world points')\n",
        "print('final P_dash matrix\\n', P_dash[real_pose])\n",
        "P_set.append(P_dash[real_pose])\n",
        "\n",
        "# 7) find optimized world points\n",
        "optimized_world_points_12 = NonlinearTriangulation(P, P_dash[real_pose], inliers1_12f, inliers2_12f, Linear_World_points_12, K)\n",
        "new_non_linear_12 = []\n",
        "for i in range(len(Linear_World_points_12)):\n",
        "    optimized_list12 = scipy.optimize.least_squares(error_func, Linear_World_points_12[i], ftol = 0.00001, xtol=0.00001 ,args = (inliers1_12f[i], inliers2_12f[i], P, P_dash[real_pose], K))\n",
        "    optim = optimized_list12.x\n",
        "    optim = optim/ optim[3]\n",
        "    new_non_linear_12.append(optim)\n",
        "optimized_world_points_12 = new_non_linear_12\n",
        "world_points_old = new_non_linear_12.copy()\n",
        "plot_images(1, P, K, inliers1_12f, new_non_linear_12, 'img1 Non Linear world points')\n",
        "plot_images(2, P_dash[real_pose], K, inliers2_12f, new_non_linear_12, 'img2 Non Linear world points')\n",
        "\n",
        "\n",
        "#___________________________________________________________________________________________________________________________________\n",
        "#prepare inputs for third image looping\n",
        "Vis_Mat_Ad = np.ones([2,len(inliers1_12f)])\n",
        "a = np.zeros_like(inliers1_12f[0])\n",
        "P1_x = 0\n",
        "P1_z = 0\n",
        "C2 = -1* np.dot(np.linalg.inv(R[real_pose]), P_dash[real_pose][:,3])\n",
        "P2_x = C2[0]\n",
        "P2_z = C2[2]\n",
        "\n",
        "#Register next images by looping\n",
        "Linear_World_Points = Linear_World_points_12.copy()\n",
        "\n",
        "new_inliers = []\n",
        "new_inliers.append(inliers1_12f)\n",
        "ref_inliers = []\n",
        "common_inliers_src = []\n",
        "common_inliers_dst = []\n",
        "common_worldpoints = []\n",
        "new_inliers_src = []\n",
        "new_inliers_dst = []\n",
        "\n",
        "All_Image_Points_list = []\n",
        "a = np.zeros_like(inliers1_12f[0])\n",
        "for i in range(len(inliers1_12f)):\n",
        "    All_Image_Points_list.append((inliers1_12f[i], inliers2_12f[i], a, a, a))\n",
        "\n",
        "for i in range(2,5):\n",
        "    im_src, im_dst = create_src_dst(img1_matches[i-1])\n",
        "    initial_src, initial_dst = RANSAC(im_src, im_dst, 11, 700, 95)\n",
        "    _,_, inliers_src_f, inliers_dst_f = getInliners(initial_src, initial_dst)\n",
        "    inliers_src.append(inliers_src_f)\n",
        "    inliers_dst.append(inliers_dst_f)\n",
        "    for j in range(len(new_inliers[i-2])):\n",
        "        ref_inliers.append(new_inliers[i-2][j])\n",
        "    \n",
        "    common_inliers_dst_f, common_inliers_src_f, common_worldpoints_f, new_inliers_dst_f, new_inliers_src_f = find_common(inliers_src_f, ref_inliers, inliers_dst_f, world_points_old)\n",
        "    \n",
        "    PnP_RANSAC_Matrix = PnPRANSAC(common_worldpoints_f, common_inliers_dst_f, K)\n",
        "    nonlinear_PnP_Undecomposed, decomposed_non_linear_PnP = NonlinearPnP(PnP_RANSAC_Matrix, common_worldpoints_f, common_inliers_dst_f, K)\n",
        "    nonlinear_PnP_Undecomposed_isolated = np.dot(np.linalg.inv(K), nonlinear_PnP_Undecomposed)\n",
        "    P_set.append(nonlinear_PnP_Undecomposed_isolated)\n",
        "\n",
        "    new_world_points = LinearTriangulation(new_inliers_src_f, new_inliers_dst_f, P, nonlinear_PnP_Undecomposed_isolated, K)\n",
        "    new_non_linear_x = []\n",
        "    for j in range(len(new_world_points)):\n",
        "        optimized_listx1 = scipy.optimize.least_squares(error_func, new_world_points[j], ftol = 1e-5, xtol=1e-5 ,args = (new_inliers_src_f[j], new_inliers_dst_f[j], P, nonlinear_PnP_Undecomposed_isolated, K))\n",
        "        optim = optimized_listx1.x\n",
        "        optim = optim/ optim[3]\n",
        "        new_non_linear_x.append(optim)\n",
        "    \n",
        "    for j in range(len(new_non_linear_x)):\n",
        "        world_points_old.append(new_non_linear_x[j])\n",
        "        Linear_World_Points.append(new_world_points[j])\n",
        "      \n",
        "    im_num = i+1\n",
        "    plot_images(i+1, nonlinear_PnP_Undecomposed, I, new_inliers_dst_f, new_world_points, 'img%d New world points Linear'%im_num)\n",
        "    plot_images(i+1, nonlinear_PnP_Undecomposed, I, new_inliers_dst_f, new_non_linear_x, 'img%d New world points Non Linear'%im_num)\n",
        "    plot_images(i+1, PnP_RANSAC_Matrix, I, common_inliers_dst_f, common_worldpoints_f, 'img%d PnP RANSAC'%im_num)\n",
        "    plot_images(i+1, nonlinear_PnP_Undecomposed, I, common_inliers_dst_f, common_worldpoints_f, 'img%d PnP Non Linear'%im_num)\n",
        "    \n",
        "    # Append all image points\n",
        "    old_image_points_count = len(All_Image_Points_list)\n",
        "    print('length of existing inliers', old_image_points_count)\n",
        "    for k in range(len(new_inliers_src_f)):\n",
        "        All_Image_Points_list.append((new_inliers_src_f[k], a, a, a, a))\n",
        "    All_Image_Points = All_Image_Points_list.copy()\n",
        "    All_Image_Points = np.asarray(All_Image_Points)\n",
        "    new_image_point_count = len(All_Image_Points_list)\n",
        "    print('new length of inliers', len(All_Image_Points_list))\n",
        "    \n",
        "    count = 0\n",
        "    for k in range(old_image_points_count, new_image_point_count):\n",
        "        All_Image_Points[k][i] = new_inliers_dst_f[count]\n",
        "        count += 1\n",
        "        \n",
        "    for k in range(len(world_points_old)):\n",
        "        for j in range(len(common_worldpoints_f)):\n",
        "            if (world_points_old[k][0] == common_worldpoints_f[j][0] and world_points_old[k][1] == common_worldpoints_f[j][1]):\n",
        "                All_Image_Points[k][i][0] = common_inliers_dst_f[j][0]\n",
        "                All_Image_Points[k][i][1] = common_inliers_dst_f[j][1]\n",
        "    \n",
        "    All_Image_Points_list = list(All_Image_Points)\n",
        "    \n",
        "    PSet = np.asarray(P_set)\n",
        "    P_size = PSet.shape\n",
        "    # 10) Visibility matrix\n",
        "    Vis_Available = Vis_Mat_Ad\n",
        "\n",
        "    list_len2 = len(new_inliers_dst_f)\n",
        "    Vis_Mat_Ad = AdaptiveVisibility(i+1, Vis_Available, world_points_old, list_len2, common_worldpoints_f)\n",
        "    #create initial parameter list\n",
        "    WorldSet = np.asarray(world_points_old)\n",
        "    initial_list = np.hstack((PSet.ravel(), WorldSet.ravel()))\n",
        "    W_size = WorldSet.shape       \n",
        "    optimized_list = scipy.optimize.least_squares(Bundle_Error, initial_list, xtol=1e-5, args =[All_Image_Points, Vis_Mat_Ad, P_size, W_size, K])\n",
        "    P_and_W = optimized_list.x\n",
        "    PSet_BA = np.reshape(P_and_W[:P_size[0]*3*4], P_size)\n",
        "    WorldSet_BA = np.reshape(P_and_W[P_size[0]*3*4: len(initial_list)], W_size)\n",
        "\n",
        "    new_inliers.append(new_inliers_src_f)    \n",
        "    print('IMAGE NUMBER', im_num)\n",
        "    \n",
        "    #scatter plot save    \n",
        "    World_x = np.zeros([len(world_points_old),1])\n",
        "    World_z = np.zeros([len(world_points_old),1])\n",
        "    Linear_World_x = np.zeros([len(Linear_World_Points),1])\n",
        "    Linear_World_z = np.zeros([len(Linear_World_Points),1])\n",
        "    for k in range(len(world_points_old)):\n",
        "        World_x[k], World_z[k] = world_points_old[k][0], world_points_old[k][2]\n",
        "        Linear_World_x[k], Linear_World_z[k] = Linear_World_Points[k][0], Linear_World_Points[k][2]\n",
        "\n",
        "    plt.scatter(World_x, World_z, s = 1)\n",
        "    plt.scatter(Linear_World_x, Linear_World_z, s = 1)\n",
        "    plt.scatter(P1_x, P1_z, s = 60, marker=\"s\")\n",
        "    plt.scatter(P2_x, P2_z, s = 60, marker=\"^\")\n",
        "    #------------------------------------------------------------------------------------------------------------------------------\n",
        "    R3 = nonlinear_PnP_Undecomposed_isolated[:,0:3]\n",
        "    C3 = -1* np.dot(np.linalg.inv(R3), nonlinear_PnP_Undecomposed_isolated[:,3])\n",
        "    P3_x = C3[0]\n",
        "    P3_z = C3[2]\n",
        "    plt.scatter(P3_x, P3_z, s = 60, marker=\"v\")\n",
        "    plt.title('World Points for Image 1, 2 ,3, 4, 5')\n",
        "    plt.axis('off')\n",
        "    plt.xlim([-15, 15])\n",
        "    plt.ylim([-5, 25])\n",
        "    plt.show()\n",
        "    plt.savefig('output_images/XvZ.jpg')\n"
      ],
      "metadata": {
        "colab": {
          "base_uri": "https://localhost:8080/",
          "height": 1000
        },
        "id": "4eTBAqKt3aYV",
        "outputId": "b8aae205-5b03-421c-fa29-2fe5228ab250"
      },
      "execution_count": 21,
      "outputs": [
        {
          "output_type": "stream",
          "name": "stdout",
          "text": [
            "singular values of E [1.41573423e+01 1.39183522e+01 3.33006569e-15]\n",
            "essential matrix [[ 0.00203389 -0.61653648  0.1168828 ]\n",
            " [ 0.66794481  0.0495678  -0.72790716]\n",
            " [-0.16328675  0.77487075  0.02595621]]\n",
            "number of positive Z values 0\n",
            "number of positive Z values 0\n",
            "number of positive Z values 460\n",
            "number of positive Z values 0\n",
            "final P_dash matrix\n",
            " [[ 0.99680999  0.01802792  0.07774854 -0.77859941]\n",
            " [-0.02180387  0.99860962  0.0479939  -0.1467785 ]\n",
            " [-0.07677521 -0.04953601  0.99581713 -0.61011395]]\n",
            "common point count 91\n",
            "length of existing inliers 460\n",
            "new length of inliers 506\n",
            "list len 1 460\n",
            "IMAGE NUMBER 3\n"
          ]
        },
        {
          "output_type": "display_data",
          "data": {
            "text/plain": [
              "<Figure size 432x288 with 1 Axes>"
            ],
            "image/png": "[encoded data removed]"
          },
          "metadata": {
            "needs_background": "light"
          }
        },
        {
          "output_type": "stream",
          "name": "stdout",
          "text": [
            "common point count 136\n",
            "length of existing inliers 506\n",
            "new length of inliers 536\n",
            "list len 1 506\n",
            "IMAGE NUMBER 4\n"
          ]
        },
        {
          "output_type": "display_data",
          "data": {
            "text/plain": [
              "<Figure size 432x288 with 1 Axes>"
            ],
            "image/png": "[encoded data removed]"
          },
          "metadata": {
            "needs_background": "light"
          }
        },
        {
          "output_type": "stream",
          "name": "stdout",
          "text": [
            "common point count 69\n",
            "length of existing inliers 536\n",
            "new length of inliers 540\n",
            "list len 1 536\n",
            "IMAGE NUMBER 5\n"
          ]
        },
        {
          "output_type": "display_data",
          "data": {
            "text/plain": [
              "<Figure size 432x288 with 1 Axes>"
            ],
            "image/png": "[encoded data removed]"
          },
          "metadata": {
            "needs_background": "light"
          }
        },
        {
          "output_type": "display_data",
          "data": {
            "text/plain": [
              "<Figure size 432x288 with 0 Axes>"
            ]
          },
          "metadata": {}
        }
      ]
    },
    {
      "cell_type": "code",
      "source": [
        "#image number 1\n",
        "file4 = open(r'P3Data/matching1.txt', 'r')\n",
        "file4_lines = []\n",
        "for count,line in enumerate(file4):\n",
        "    file4_lines.append(line)\n",
        "I = np.identity(3)\n",
        "\n",
        "# 1) Import matches of first image with all other images\n",
        "img_1to2, img_1to3, img_1to4, img_1to5, _, _, _, _, _, _  = read_match_file(1, file4_lines, count)\n",
        "img1_matches = []\n",
        "img1_matches.append(img_1to2)\n",
        "img1_matches.append(img_1to3)\n",
        "img1_matches.append(img_1to4)\n",
        "img1_matches.append(img_1to5)\n",
        "inliers_src = []\n",
        "inliers_dst = []\n",
        "world_points_old = []\n",
        "world_points_current = []\n",
        "P_set = []\n",
        "\n",
        "# 2) Implement RANSAC to remove outliers from original matches\n",
        "im1_12, im2_12 = create_src_dst(img_1to2)\n",
        "\n",
        "# 3) Find fundamental matrix\n",
        "inliers1_12, inliers2_12 = RANSAC(im1_12, im2_12, 11, 1000, 95)\n",
        "sFinal,fFinal, inliers1_12f, inliers2_12f = getInliners(inliers1_12, inliers2_12)\n",
        "inliers_src.append(inliers1_12f)\n",
        "inliers_dst.append(inliers2_12f)\n",
        "P = np.zeros([3,4])\n",
        "P[:,0:3] = np.identity(3)"
      ],
      "metadata": {
        "id": "cbLWvpEHXaDm"
      },
      "execution_count": 22,
      "outputs": []
    },
    {
      "cell_type": "code",
      "source": [
        "im1_12.shape, im2_12.shape"
      ],
      "metadata": {
        "colab": {
          "base_uri": "https://localhost:8080/"
        },
        "id": "4SKp-Fx7py6m",
        "outputId": "f2369459-35b3-4138-aa8d-df98123c3d0d"
      },
      "execution_count": 25,
      "outputs": [
        {
          "output_type": "execute_result",
          "data": {
            "text/plain": [
              "((672, 2), (672, 2))"
            ]
          },
          "metadata": {},
          "execution_count": 25
        }
      ]
    },
    {
      "cell_type": "code",
      "source": [
        "im1_12[0]"
      ],
      "metadata": {
        "colab": {
          "base_uri": "https://localhost:8080/"
        },
        "id": "hAtd95wYp_Hg",
        "outputId": "befa9c20-2f10-4166-fc46-e02ff0b3ead9"
      },
      "execution_count": 26,
      "outputs": [
        {
          "output_type": "execute_result",
          "data": {
            "text/plain": [
              "array([  7.15528, 197.921  ])"
            ]
          },
          "metadata": {},
          "execution_count": 26
        }
      ]
    },
    {
      "cell_type": "code",
      "source": [],
      "metadata": {
        "id": "UPiDYlnFuzWz"
      },
      "execution_count": null,
      "outputs": []
    }
  ]
}