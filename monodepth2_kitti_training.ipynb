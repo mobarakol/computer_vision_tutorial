{
  "cells": [
    {
      "cell_type": "markdown",
      "metadata": {
        "id": "view-in-github",
        "colab_type": "text"
      },
      "source": [
        "<a href=\"https://colab.research.google.com/github/mobarakol/computer_vision_tutorial/blob/main/monodepth2_kitti_training.ipynb\" target=\"_parent\"><img src=\"https://colab.research.google.com/assets/colab-badge.svg\" alt=\"Open In Colab\"/></a>"
      ]
    },
    {
      "cell_type": "markdown",
      "source": [
        "# Monodepth2 (train from scratch)\n",
        "Installation:"
      ],
      "metadata": {
        "id": "U4F7i6fRP-B-"
      }
    },
    {
      "cell_type": "code",
      "source": [
        "!sudo apt-get install moreutils parallel imagemagick"
      ],
      "metadata": {
        "id": "G_uuxp-C_Wrq"
      },
      "execution_count": null,
      "outputs": []
    },
    {
      "cell_type": "code",
      "source": [
        "!pip -q install tensorboardX==1.4"
      ],
      "metadata": {
        "colab": {
          "base_uri": "https://localhost:8080/"
        },
        "id": "5N0_iibQCozT",
        "outputId": "f5f822bd-47a6-4ce3-d595-d9efc7d76321"
      },
      "execution_count": 2,
      "outputs": [
        {
          "output_type": "stream",
          "name": "stdout",
          "text": [
            "\u001b[?25l     \u001b[90m━━━━━━━━━━━━━━━━━━━━━━━━━━━━━━━━━━━━━━━━\u001b[0m \u001b[32m0.0/67.3 KB\u001b[0m \u001b[31m?\u001b[0m eta \u001b[36m-:--:--\u001b[0m\r\u001b[2K     \u001b[91m━━━━━━━━━━━━━━━━━\u001b[0m\u001b[91m╸\u001b[0m\u001b[90m━━━━━━━━━━━━━━━━━━━━━\u001b[0m \u001b[32m30.7/67.3 KB\u001b[0m \u001b[31m114.5 MB/s\u001b[0m eta \u001b[36m0:00:01\u001b[0m\r\u001b[2K     \u001b[91m━━━━━━━━━━━━━━━━━━━━━━━━━━━━━━━━━━━\u001b[0m\u001b[91m╸\u001b[0m\u001b[90m━━━\u001b[0m \u001b[32m61.4/67.3 KB\u001b[0m \u001b[31m826.9 kB/s\u001b[0m eta \u001b[36m0:00:01\u001b[0m\r\u001b[2K     \u001b[90m━━━━━━━━━━━━━━━━━━━━━━━━━━━━━━━━━━━━━━━\u001b[0m \u001b[32m67.3/67.3 KB\u001b[0m \u001b[31m804.1 kB/s\u001b[0m eta \u001b[36m0:00:00\u001b[0m\n",
            "\u001b[?25h"
          ]
        }
      ]
    },
    {
      "cell_type": "code",
      "source": [
        "!git clone https://github.com/nianticlabs/monodepth2.git\n",
        "%cd monodepth2"
      ],
      "metadata": {
        "colab": {
          "base_uri": "https://localhost:8080/"
        },
        "id": "O58-be88SCM5",
        "outputId": "f910ba20-fce9-4c53-cd51-cb8680429272"
      },
      "execution_count": 3,
      "outputs": [
        {
          "output_type": "stream",
          "name": "stdout",
          "text": [
            "Cloning into 'monodepth2'...\n",
            "remote: Enumerating objects: 180, done.\u001b[K\n",
            "remote: Total 180 (delta 0), reused 0 (delta 0), pack-reused 180\u001b[K\n",
            "Receiving objects: 100% (180/180), 10.27 MiB | 34.81 MiB/s, done.\n",
            "Resolving deltas: 100% (89/89), done.\n",
            "/content/monodepth2\n"
          ]
        }
      ]
    },
    {
      "cell_type": "markdown",
      "source": [
        "Download small portion of the dataset:<br>\n",
        "To download all: !wget -i splits/kitti_archives_to_download.txt -P kitti_data/"
      ],
      "metadata": {
        "id": "9iw1RF43_a4j"
      }
    },
    {
      "cell_type": "code",
      "source": [
        "!wget https://s3.eu-central-1.amazonaws.com/avg-kitti/raw_data/2011_09_26_calib.zip -P kitti_data/\n",
        "!wget https://s3.eu-central-1.amazonaws.com/avg-kitti/raw_data/2011_09_26_drive_0001/2011_09_26_drive_0001_sync.zip -P kitti_data/\n",
        "!wget https://s3.eu-central-1.amazonaws.com/avg-kitti/raw_data/2011_09_28_calib.zip -P kitti_data/\n",
        "!wget https://s3.eu-central-1.amazonaws.com/avg-kitti/raw_data/2011_09_28_drive_0001/2011_09_28_drive_0001_sync.zip -P kitti_data/\n",
        "!wget https://s3.eu-central-1.amazonaws.com/avg-kitti/raw_data/2011_09_29_calib.zip -P kitti_data/\n",
        "!wget https://s3.eu-central-1.amazonaws.com/avg-kitti/raw_data/2011_09_29_drive_0004/2011_09_29_drive_0004_sync.zip -P kitti_data/\n",
        "!wget https://s3.eu-central-1.amazonaws.com/avg-kitti/raw_data/2011_09_30_calib.zip -P kitti_data/\n",
        "!wget https://s3.eu-central-1.amazonaws.com/avg-kitti/raw_data/2011_09_30_drive_0016/2011_09_30_drive_0016_sync.zip -P kitti_data/"
      ],
      "metadata": {
        "id": "LfQLw4QA-ZsR"
      },
      "execution_count": null,
      "outputs": []
    },
    {
      "cell_type": "code",
      "execution_count": 5,
      "metadata": {
        "id": "6uBfPwFB6MKb",
        "colab": {
          "base_uri": "https://localhost:8080/"
        },
        "outputId": "637a6784-2bc3-49d2-cc92-8ab04db84381"
      },
      "outputs": [
        {
          "output_type": "stream",
          "name": "stdout",
          "text": [
            "/content/monodepth2/kitti_data\n",
            "\n",
            "8 archives were successfully processed.\n",
            "/content/monodepth2\n"
          ]
        }
      ],
      "source": [
        "%cd kitti_data\n",
        "!unzip -q \"*.zip\"\n",
        "%cd ..\n",
        "!rm -rf kitti_data/*.zip"
      ]
    },
    {
      "cell_type": "code",
      "execution_count": 6,
      "metadata": {
        "id": "8cxpvRq66ZJL"
      },
      "outputs": [],
      "source": [
        "!find kitti_data/ -name '*.png' | parallel 'convert -quality 92 -sampling-factor 2x2,1x1,1x1 {.}.png {.}.jpg && rm {}'"
      ]
    },
    {
      "cell_type": "code",
      "source": [
        "!python train.py --model_name mono_640x192"
      ],
      "metadata": {
        "colab": {
          "base_uri": "https://localhost:8080/"
        },
        "id": "qh_zigrijGQR",
        "outputId": "94732a58-4565-404f-d92c-b2dd7ef842a8"
      },
      "execution_count": 12,
      "outputs": [
        {
          "output_type": "stream",
          "name": "stdout",
          "text": [
            "/usr/local/lib/python3.9/dist-packages/torchvision/models/_utils.py:135: UserWarning: Using 'weights' as positional parameter(s) is deprecated since 0.13 and may be removed in the future. Please use keyword parameter(s) instead.\n",
            "  warnings.warn(\n",
            "/usr/local/lib/python3.9/dist-packages/torchvision/models/_utils.py:223: UserWarning: Arguments other than a weight enum or `None` for 'weights' are deprecated since 0.13 and may be removed in the future. The current behavior is equivalent to passing `weights=ResNet18_Weights.IMAGENET1K_V1`. You can also use `weights=ResNet18_Weights.DEFAULT` to get the most up-to-date weights.\n",
            "  warnings.warn(msg)\n",
            "Downloading: \"https://download.pytorch.org/models/resnet18-f37072fd.pth\" to /root/.cache/torch/hub/checkpoints/resnet18-f37072fd.pth\n",
            "100% 44.7M/44.7M [00:00<00:00, 111MB/s]\n",
            "/usr/local/lib/python3.9/dist-packages/torchvision/models/_utils.py:252: UserWarning: Accessing the model URLs via the internal dictionary of the module is deprecated since 0.13 and may be removed in the future. Please access them via the appropriate Weights Enum instead.\n",
            "  warnings.warn(\n",
            "Training model named:\n",
            "   mono_640x192\n",
            "Models and tensorboard events files are saved to:\n",
            "   /root/tmp\n",
            "Training is using:\n",
            "   cuda\n",
            "/usr/local/lib/python3.9/dist-packages/torchvision/transforms/transforms.py:329: UserWarning: Argument 'interpolation' of type int is deprecated since 0.13 and will be removed in 0.15. Please use InterpolationMode enum.\n",
            "  warnings.warn(\n",
            "/usr/local/lib/python3.9/dist-packages/torch/utils/data/dataloader.py:554: UserWarning: This DataLoader will create 12 worker processes in total. Our suggested max number of worker in current system is 2, which is smaller than what this DataLoader is going to create. Please be aware that excessive worker creation might get DataLoader running slow or even freeze, lower the worker number to avoid potential slowness/freeze if necessary.\n",
            "  warnings.warn(_create_warning_msg(\n",
            "Using split:\n",
            "   eigen_zhou\n",
            "There are 39810 training items and 4424 validation items\n",
            "\n",
            "/usr/local/lib/python3.9/dist-packages/torch/optim/lr_scheduler.py:138: UserWarning: Detected call of `lr_scheduler.step()` before `optimizer.step()`. In PyTorch 1.1.0 and later, you should call them in the opposite order: `optimizer.step()` before `lr_scheduler.step()`.  Failure to do this will result in PyTorch skipping the first value of the learning rate schedule. See more details at https://pytorch.org/docs/stable/optim.html#how-to-adjust-learning-rate\n",
            "  warnings.warn(\"Detected call of `lr_scheduler.step()` before `optimizer.step()`. \"\n",
            "Training\n",
            "Traceback (most recent call last):\n",
            "  File \"/content/monodepth2/train.py\", line 18, in <module>\n",
            "    trainer.train()\n",
            "  File \"/content/monodepth2/trainer.py\", line 189, in train\n",
            "    self.run_epoch()\n",
            "  File \"/content/monodepth2/trainer.py\", line 201, in run_epoch\n",
            "    for batch_idx, inputs in enumerate(self.train_loader):\n",
            "  File \"/usr/local/lib/python3.9/dist-packages/torch/utils/data/dataloader.py\", line 628, in __next__\n",
            "    data = self._next_data()\n",
            "  File \"/usr/local/lib/python3.9/dist-packages/torch/utils/data/dataloader.py\", line 1333, in _next_data\n",
            "    return self._process_data(data)\n",
            "  File \"/usr/local/lib/python3.9/dist-packages/torch/utils/data/dataloader.py\", line 1359, in _process_data\n",
            "    data.reraise()\n",
            "  File \"/usr/local/lib/python3.9/dist-packages/torch/_utils.py\", line 543, in reraise\n",
            "    raise exception\n",
            "FileNotFoundError: Caught FileNotFoundError in DataLoader worker process 0.\n",
            "Original Traceback (most recent call last):\n",
            "  File \"/usr/local/lib/python3.9/dist-packages/torch/utils/data/_utils/worker.py\", line 302, in _worker_loop\n",
            "    data = fetcher.fetch(index)\n",
            "  File \"/usr/local/lib/python3.9/dist-packages/torch/utils/data/_utils/fetch.py\", line 58, in fetch\n",
            "    data = [self.dataset[idx] for idx in possibly_batched_index]\n",
            "  File \"/usr/local/lib/python3.9/dist-packages/torch/utils/data/_utils/fetch.py\", line 58, in <listcomp>\n",
            "    data = [self.dataset[idx] for idx in possibly_batched_index]\n",
            "  File \"/content/monodepth2/datasets/mono_dataset.py\", line 161, in __getitem__\n",
            "    inputs[(\"color\", i, -1)] = self.get_color(folder, frame_index + i, side, do_flip)\n",
            "  File \"/content/monodepth2/datasets/kitti_dataset.py\", line 50, in get_color\n",
            "    color = self.loader(self.get_image_path(folder, frame_index, side))\n",
            "  File \"/content/monodepth2/datasets/mono_dataset.py\", line 23, in pil_loader\n",
            "    with open(path, 'rb') as f:\n",
            "FileNotFoundError: [Errno 2] No such file or directory: '/content/monodepth2/kitti_data/2011_09_30/2011_09_30_drive_0034_sync/image_03/data/0000000586.jpg'\n",
            "\n"
          ]
        }
      ]
    },
    {
      "cell_type": "code",
      "source": [],
      "metadata": {
        "id": "rpn7GgH9CX8-"
      },
      "execution_count": null,
      "outputs": []
    }
  ],
  "metadata": {
    "colab": {
      "provenance": [],
      "include_colab_link": true
    },
    "kernelspec": {
      "display_name": "Python 3",
      "name": "python3"
    },
    "language_info": {
      "name": "python"
    },
    "accelerator": "GPU",
    "gpuClass": "standard"
  },
  "nbformat": 4,
  "nbformat_minor": 0
}